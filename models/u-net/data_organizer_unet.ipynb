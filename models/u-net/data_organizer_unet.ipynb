{
 "cells": [
  {
   "cell_type": "code",
   "execution_count": 26,
   "metadata": {},
   "outputs": [],
   "source": [
    "import os, zipfile\n",
    "import tarfile\n",
    "from PIL import Image\n",
    "import glob\n"
   ]
  },
  {
   "cell_type": "code",
   "execution_count": 27,
   "metadata": {},
   "outputs": [],
   "source": [
    "base_path = './../../extracted_data/'"
   ]
  },
  {
   "cell_type": "code",
   "execution_count": 28,
   "metadata": {},
   "outputs": [],
   "source": [
    "directory = \"./../../extracted_data/train/data\"\n",
    "count = 0\n",
    "for root, subdirectories, files in os.walk(directory):\n",
    "    for subdirectory in subdirectories:\n",
    "        count = count+1\n",
    "        p = os.path.join(root, subdirectory)+\"/frame0070.png\"\n",
    "# print(count)\n",
    "        !cp {p} ./data/train\n",
    "        !mv ./data/train/frame0070.png ./data/train/{subdirectory+\".png\"}\n",
    "        "
   ]
  },
  {
   "cell_type": "code",
   "execution_count": 29,
   "metadata": {},
   "outputs": [],
   "source": [
    "directory = \"./../../extracted_data/test/data\"\n",
    "count = 0\n",
    "for root, subdirectories, files in os.walk(directory):\n",
    "    for subdirectory in subdirectories:\n",
    "        count = count+1\n",
    "        p = os.path.join(root, subdirectory)+\"/frame0070.png\"\n",
    "# print(count)\n",
    "        !cp {p} ./data/test\n",
    "        !mv ./data/test/frame0070.png ./data/test/{subdirectory+\".png\"}\n",
    "        "
   ]
  },
  {
   "cell_type": "code",
   "execution_count": 30,
   "metadata": {},
   "outputs": [],
   "source": [
    "! cp -r ./../../extracted_data/masks ./data/masks/"
   ]
  },
  {
   "cell_type": "code",
   "execution_count": 31,
   "metadata": {},
   "outputs": [],
   "source": [
    "train_files_png = glob.glob(\"./data/train/*.png\")\n",
    "for i in train_files_png:\n",
    "    filename = i.split(\"/\")[-1]\n",
    "#     print(filename)\n",
    "    im = Image.open(i)\n",
    "    im.save('./data/train/'+filename.split('.')[0]+'.tif') \n"
   ]
  },
  {
   "cell_type": "code",
   "execution_count": 32,
   "metadata": {},
   "outputs": [],
   "source": [
    "test_files_png = glob.glob(\"./data/test/*.png\")\n",
    "for i in test_files_png:\n",
    "    filename = i.split(\"/\")[-1]\n",
    "#     print(filename)\n",
    "    im = Image.open(i)\n",
    "    im.save('./data/test/'+filename.split('.')[0]+'.tif') \n"
   ]
  },
  {
   "cell_type": "code",
   "execution_count": 34,
   "metadata": {},
   "outputs": [],
   "source": [
    "masks_files_png = glob.glob(\"./data/masks/*.png\")\n",
    "for i in masks_files_png:\n",
    "    filename = i.split(\"/\")[-1]\n",
    "#     print(filename)\n",
    "    im = Image.open(i)\n",
    "    im.save('./data/masks/'+filename.split('.')[0]+'.tif') \n"
   ]
  },
  {
   "cell_type": "code",
   "execution_count": null,
   "metadata": {},
   "outputs": [],
   "source": []
  }
 ],
 "metadata": {
  "kernelspec": {
   "display_name": "Python 3",
   "language": "python",
   "name": "python3"
  },
  "language_info": {
   "codemirror_mode": {
    "name": "ipython",
    "version": 3
   },
   "file_extension": ".py",
   "mimetype": "text/x-python",
   "name": "python",
   "nbconvert_exporter": "python",
   "pygments_lexer": "ipython3",
   "version": "3.8.5"
  }
 },
 "nbformat": 4,
 "nbformat_minor": 2
}
