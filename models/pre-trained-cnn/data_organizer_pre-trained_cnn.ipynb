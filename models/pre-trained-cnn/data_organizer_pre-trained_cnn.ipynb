{
 "cells": [
  {
   "cell_type": "code",
   "execution_count": 1,
   "metadata": {},
   "outputs": [],
   "source": [
    "import os, zipfile\n",
    "import tarfile"
   ]
  },
  {
   "cell_type": "code",
   "execution_count": 2,
   "metadata": {},
   "outputs": [],
   "source": [
    "base_path = '/home/dsp_tameo/tamiyo-p3/data/train'"
   ]
  },
  {
   "cell_type": "code",
   "execution_count": 3,
   "metadata": {},
   "outputs": [],
   "source": [
    "directory = \"/home/dsp_tameo/tamiyo-p3/data/train/data\"\n",
    "count = 0\n",
    "for root, subdirectories, files in os.walk(directory):\n",
    "    for subdirectory in subdirectories:\n",
    "        count = count+1\n",
    "        p = os.path.join(root, subdirectory)+\"/frame0050.png\"\n",
    "# print(count)\n",
    "        !cp {p} /home/dsp_tameo/tamiyo-p3/models/pre-trained-cnn/train\n",
    "        !mv /home/dsp_tameo/tamiyo-p3/models/pre-trained-cnn/train/frame0050.png /home/dsp_tameo/tamiyo-p3/models/pre-trained-cnn/train/{subdirectory+\".png\"}\n",
    "        "
   ]
  },
  {
   "cell_type": "code",
   "execution_count": 4,
   "metadata": {},
   "outputs": [],
   "source": [
    "directory = \"/home/dsp_tameo/tamiyo-p3/data/test/data\"\n",
    "count = 0\n",
    "for root, subdirectories, files in os.walk(directory):\n",
    "    for subdirectory in subdirectories:\n",
    "        count = count+1\n",
    "        p = os.path.join(root, subdirectory)+\"/frame0050.png\"\n",
    "# print(count)\n",
    "        !cp {p} /home/dsp_tameo/tamiyo-p3/models/pre-trained-cnn/test\n",
    "        !mv /home/dsp_tameo/tamiyo-p3/models/pre-trained-cnn/test/frame0050.png /home/dsp_tameo/tamiyo-p3/models/pre-trained-cnn/test/{subdirectory+\".png\"}\n"
   ]
  },
  {
   "cell_type": "code",
   "execution_count": null,
   "metadata": {},
   "outputs": [],
   "source": []
  }
 ],
 "metadata": {
  "kernelspec": {
   "display_name": "Python 3",
   "language": "python",
   "name": "python3"
  },
  "language_info": {
   "codemirror_mode": {
    "name": "ipython",
    "version": 3
   },
   "file_extension": ".py",
   "mimetype": "text/x-python",
   "name": "python",
   "nbconvert_exporter": "python",
   "pygments_lexer": "ipython3",
   "version": "3.7.4"
  }
 },
 "nbformat": 4,
 "nbformat_minor": 2
}
