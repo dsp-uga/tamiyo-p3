{
  "nbformat": 4,
  "nbformat_minor": 0,
  "metadata": {
    "colab": {
      "name": "data_preproccessing.ipynb",
      "provenance": [],
      "collapsed_sections": []
    },
    "kernelspec": {
      "name": "python3",
      "display_name": "Python 3"
    },
    "language_info": {
      "name": "python"
    },
    "accelerator": "GPU"
  },
  "cells": [
    {
      "cell_type": "code",
      "metadata": {
        "id": "xLTFucc8uzrJ"
      },
      "source": [
        "from google.colab import auth\n",
        "auth.authenticate_user()\n",
        "!curl https://sdk.cloud.google.com | bash\n",
        "!gcloud init"
      ],
      "execution_count": null,
      "outputs": []
    },
    {
      "cell_type": "code",
      "metadata": {
        "id": "bk_-Uy9iu0z8"
      },
      "source": [
        "from google.cloud import storage\n",
        "storage_client = storage.Client('data-science-project-2-307815')"
      ],
      "execution_count": 13,
      "outputs": []
    },
    {
      "cell_type": "code",
      "metadata": {
        "id": "1A5GaiF0rfcJ"
      },
      "source": [
        "!gsutil cp gs://uga-dsp/project3/test.txt ."
      ],
      "execution_count": null,
      "outputs": []
    },
    {
      "cell_type": "code",
      "metadata": {
        "id": "AeaS3Flrr3PH"
      },
      "source": [
        "with open('test.txt') as f:\n",
        "  test_list = f.read().split('\\n')\n",
        "test_list = test_list[:-1]\n",
        "test_list"
      ],
      "execution_count": null,
      "outputs": []
    },
    {
      "cell_type": "code",
      "metadata": {
        "id": "qQ_r2WJQs9cs"
      },
      "source": [
        "import os, shutil\n",
        "if not os.path.isdir('data'):\n",
        "  os.mkdir('data')\n",
        "else:\n",
        "  shutil.rmtree('data')\n",
        "  os.mkdir('data')\n",
        "for i in test_list:\n",
        "  storage_client.bucket('uga-dsp').blob(os.path.join('project3/data', ''.join([i,'.tar']))).download_to_filename(os.path.join('/content/data', ''.join([i,'.tar'])))\n",
        "  print(test_list.index(i))"
      ],
      "execution_count": null,
      "outputs": []
    },
    {
      "cell_type": "code",
      "metadata": {
        "id": "EvxcX08Wumrn"
      },
      "source": [
        "if not os.path.isdir('test_image'):\n",
        "  os.mkdir('test_image')\n",
        "else:\n",
        "  shutil.rmtree('test_image')\n",
        "  os.mkdir('test_image')\n",
        "\n",
        "import tarfile\n",
        "for i in range(len(test_list)):\n",
        "  path = os.path.join('/content/data', ''.join([test_list[i],'.tar']))\n",
        "  my_tar = tarfile.open(path)\n",
        "  my_tar.extract(os.path.join(''.join(['data/', test_list[i]]),'frame0099.png'),'/content/test_image')\n",
        "  my_tar.close()"
      ],
      "execution_count": 26,
      "outputs": []
    },
    {
      "cell_type": "code",
      "metadata": {
        "id": "fJolccEk4Ka8"
      },
      "source": [
        ""
      ],
      "execution_count": null,
      "outputs": []
    }
  ]
}