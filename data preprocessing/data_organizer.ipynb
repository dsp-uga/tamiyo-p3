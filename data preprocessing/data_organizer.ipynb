{
 "cells": [
  {
   "cell_type": "code",
   "execution_count": 6,
   "metadata": {},
   "outputs": [],
   "source": [
    "import os, zipfile\n",
    "import tarfile"
   ]
  },
  {
   "cell_type": "code",
   "execution_count": 7,
   "metadata": {},
   "outputs": [],
   "source": [
    "base_path = './'"
   ]
  },
  {
   "cell_type": "code",
   "execution_count": 14,
   "metadata": {},
   "outputs": [],
   "source": [
    "def split_training_data(input_file):\n",
    "    training_data = []\n",
    "    with open(input_file,'r') as f:\n",
    "        training_data = f.readlines()\n",
    "    training_data = [x[:-1] for x in training_data]\n",
    "    for filename in training_data:\n",
    "        file_full_path = base_path+'dataset/data/'+filename+'.tar'\n",
    "        tar=tarfile.open(file_full_path)\n",
    "        tar.extractall(base_path+'models/u-net/data/train')\n",
    "        tar.close()\n",
    "        os.remove(file_full_path)\n",
    "    return"
   ]
  },
  {
   "cell_type": "code",
   "execution_count": 15,
   "metadata": {},
   "outputs": [],
   "source": [
    "def split_testing_data(input_file):\n",
    "    testing_data = []\n",
    "    with open(input_file,'r') as f:\n",
    "        testing_data = f.readlines()\n",
    "    testing_data = [x[:-1] for x in testing_data]\n",
    "    for filename in testing_data:\n",
    "        file_full_path = base_path+'dataset/data/'+filename+'.tar'\n",
    "        tar=tarfile.open(file_full_path)\n",
    "        tar.extractall(base_path+'models/u-net/data/test')\n",
    "        tar.close()\n",
    "        os.remove(file_full_path)\n",
    "    return"
   ]
  },
  {
   "cell_type": "code",
   "execution_count": null,
   "metadata": {},
   "outputs": [],
   "source": []
  },
  {
   "cell_type": "code",
   "execution_count": 16,
   "metadata": {},
   "outputs": [],
   "source": [
    "split_training_data(base_path+'dataset/train.txt')"
   ]
  },
  {
   "cell_type": "code",
   "execution_count": 18,
   "metadata": {},
   "outputs": [],
   "source": [
    "split_testing_data(base_path+'dataset/test.txt')"
   ]
  },
  {
   "cell_type": "code",
   "execution_count": null,
   "metadata": {},
   "outputs": [],
   "source": []
  }
 ],
 "metadata": {
  "kernelspec": {
   "display_name": "Python 3",
   "language": "python",
   "name": "python3"
  },
  "language_info": {
   "codemirror_mode": {
    "name": "ipython",
    "version": 3
   },
   "file_extension": ".py",
   "mimetype": "text/x-python",
   "name": "python",
   "nbconvert_exporter": "python",
   "pygments_lexer": "ipython3",
   "version": "3.8.5"
  }
 },
 "nbformat": 4,
 "nbformat_minor": 2
}
